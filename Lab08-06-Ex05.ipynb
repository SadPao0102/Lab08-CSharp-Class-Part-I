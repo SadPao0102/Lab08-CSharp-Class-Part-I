{
 "cells": [
  {
   "cell_type": "markdown",
   "metadata": {
    "dotnet_interactive": {
     "language": "csharp"
    },
    "polyglot_notebook": {
     "kernelName": "csharp"
    }
   },
   "source": [
    "# Lab 8 Exercise 5\n",
    "\n",
    "## simple Method"
   ]
  },
  {
   "cell_type": "markdown",
   "metadata": {},
   "source": [
    "1. สร้าง console application project\n",
    "\n",
    "```\n",
    "    dotnet new console --name Lab08_Ex05\n",
    "```\n"
   ]
  },
  {
   "cell_type": "markdown",
   "metadata": {},
   "source": [
    "2. เปลี่ยน code ให้เป็นดังต่อไปนี้\n",
    "\n",
    ">  ```csharp \n",
    ">  1. var myObj = new MyClass();\n",
    ">  2. myObj.Info();\n",
    ">  3. \n",
    ">  4. class MyClass\n",
    ">  5. {\n",
    ">  6.     int F1;\n",
    ">  7.     string F2;\n",
    ">  8.     int F3 = 100;\n",
    ">  9.     string F4 = \"ASDF\";\n",
    "> 10. \n",
    "> 11.     public void Info()\n",
    "> 12.     {\n",
    "> 13.         System.Console.WriteLine($\"Default integer      F1 = {F1}\");  //Implicit fields initialization\n",
    "> 14.         System.Console.WriteLine($\"Default string       F2 = {F2}\");\n",
    "> 15. \n",
    "> 16.         System.Console.WriteLine($\"Initialized integer  F3 = {F3}\");  //Explicit field initialization\n",
    "> 17.         System.Console.WriteLine($\"Initialized string   F4 = {F4}\");\n",
    "> 18.     } \n",
    "> 19. }\n",
    "> ```\n",
    "\n"
   ]
  },
  {
   "cell_type": "markdown",
   "metadata": {},
   "source": [
    "3. Build project โดยการใช้คำสั่ง\n",
    "\n",
    "```\n",
    "    dotnet build  Lab08_Ex05\n",
    "```"
   ]
  },
  {
   "cell_type": "markdown",
   "metadata": {},
   "source": [
    "4. บันทึกผลที่ได้จากการรันคำสั่งในข้อ 3\n",
    "\n"
   ]
  },
  {
   "cell_type": "markdown",
   "metadata": {},
   "source": [
    "*คำตอบ*"
   ]
  },
  {
   "cell_type": "markdown",
   "metadata": {},
   "source": [
    "Build succeeded with 3 warning(s) in 1.5s"
   ]
  },
  {
   "cell_type": "markdown",
   "metadata": {},
   "source": [
    "5. Run project โดยการใช้คำสั่ง\n",
    "\n",
    "```\n",
    "    dotnet run --project Lab08_Ex05\n",
    "```"
   ]
  },
  {
   "cell_type": "markdown",
   "metadata": {},
   "source": [
    "\n",
    "6. บันทึกผลที่ได้จากการรันคำสั่งในข้อ 5\n",
    "\n"
   ]
  },
  {
   "cell_type": "markdown",
   "metadata": {},
   "source": [
    "*คำตอบ*"
   ]
  },
  {
   "cell_type": "markdown",
   "metadata": {},
   "source": [
    "Default integer      F1 = 0\n",
    "\n",
    "Default string       F2 = \n",
    "\n",
    "Initialized integer  F3 = 100\n",
    "\n",
    "Initialized string   F4 = ASDF"
   ]
  },
  {
   "cell_type": "markdown",
   "metadata": {},
   "source": [
    "\n",
    "7. อธิบายสิ่งที่พบในการทดลอง\n",
    "\n"
   ]
  },
  {
   "cell_type": "markdown",
   "metadata": {},
   "source": [
    "*คำตอบ*"
   ]
  },
  {
   "cell_type": "markdown",
   "metadata": {},
   "source": [
    "f2 ไม่แสดงผลลัพธ์"
   ]
  },
  {
   "cell_type": "markdown",
   "metadata": {},
   "source": [
    "8. นำ code ในข้อ 2 มารันบน polyglot notebook  โดยใส่ใน  code cell ด้านล่างนี้\n"
   ]
  },
  {
   "cell_type": "code",
   "execution_count": null,
   "metadata": {},
   "outputs": [
    {
     "name": "stdout",
     "output_type": "stream",
     "text": [
      "Default integer      F1 = 0\n",
      "Default string       F2 = \n",
      "Initialized integer  F3 = 100\n",
      "Initialized string   F4 = ASDF\n"
     ]
    }
   ],
   "source": [
    "// พื้นที่เขียน code ตามข้อ 2\n",
    "var myObj = new MyClass();\n",
    "myObj.Info();\n",
    "\n",
    "class MyClass\n",
    "{\n",
    "   int F1;\n",
    "    string F2;\n",
    "    int F3 = 100;\n",
    "   string F4 = \"ASDF\";\n",
    "\n",
    "   public void Info()\n",
    "    {\n",
    "         System.Console.WriteLine($\"Default integer      F1 = {F1}\");  //Implicit fields initialization\n",
    "         System.Console.WriteLine($\"Default string       F2 = {F2}\");\n",
    "\n",
    "        System.Console.WriteLine($\"Initialized integer  F3 = {F3}\");  //Explicit field initialization\n",
    "         System.Console.WriteLine($\"Initialized string   F4 = {F4}\");\n",
    "     } \n",
    "}\n",
    "\n",
    "\n"
   ]
  },
  {
   "cell_type": "markdown",
   "metadata": {},
   "source": [
    "8.1 ผลการรันเป็นอย่างไร\n",
    "\n"
   ]
  },
  {
   "cell_type": "markdown",
   "metadata": {},
   "source": [
    "*คำตอบ*"
   ]
  },
  {
   "cell_type": "markdown",
   "metadata": {},
   "source": [
    "Default integer      F1 = 0\n",
    "\n",
    "Default string       F2 = \n",
    "\n",
    "Initialized integer  F3 = 100\n",
    "\n",
    "Initialized string   F4 = ASDF"
   ]
  },
  {
   "cell_type": "markdown",
   "metadata": {},
   "source": [
    "8.2 เหมือนหรือต่างจาก console application อย่างไร"
   ]
  },
  {
   "cell_type": "markdown",
   "metadata": {},
   "source": [
    "*คำตอบ*"
   ]
  },
  {
   "cell_type": "markdown",
   "metadata": {},
   "source": [
    "ผลลัพธ์เหมือนกันทั้งคู่"
   ]
  },
  {
   "cell_type": "markdown",
   "metadata": {},
   "source": [
    "## คำถาม"
   ]
  },
  {
   "cell_type": "markdown",
   "metadata": {},
   "source": [
    "1. ถ้าแก้ไขโค้ดในบรรทัดที่ 11 เป็นดังต่อไปนี้  จะได้ผลการ build หรือ run เป็นอย่างไร ให้แสดง output ที่โปรแกรมแสดงออกมา\n",
    "```csharp\n",
    "    void Info()\n",
    "```\n"
   ]
  },
  {
   "cell_type": "code",
   "execution_count": null,
   "metadata": {},
   "outputs": [
    {
     "ename": "Error",
     "evalue": "(3,7): error CS0122: 'MyClass.Info()' is inaccessible due to its protection level",
     "output_type": "error",
     "traceback": [
      "(3,7): error CS0122: 'MyClass.Info()' is inaccessible due to its protection level"
     ]
    }
   ],
   "source": [
    "// พื้นที่เขียน code และทดสอบ\n",
    "var myObj = new MyClass();\n",
    "myObj.Info();\n",
    "\n",
    "class MyClass\n",
    "{\n",
    "   int F1;\n",
    "    string F2;\n",
    "    int F3 = 100;\n",
    "   string F4 = \"ASDF\";\n",
    "\n",
    "   void Info()\n",
    "    {\n",
    "         System.Console.WriteLine($\"Default integer      F1 = {F1}\");  //Implicit fields initialization\n",
    "         System.Console.WriteLine($\"Default string       F2 = {F2}\");\n",
    "\n",
    "        System.Console.WriteLine($\"Initialized integer  F3 = {F3}\");  //Explicit field initialization\n",
    "         System.Console.WriteLine($\"Initialized string   F4 = {F4}\");\n",
    "     } \n",
    "}\n",
    "\n",
    "\n"
   ]
  },
  {
   "cell_type": "markdown",
   "metadata": {},
   "source": [
    "*คำตอบ*"
   ]
  },
  {
   "cell_type": "markdown",
   "metadata": {},
   "source": [
    "Error: (3,7): error CS0122: 'MyClass.Info()' is inaccessible due to its protection level"
   ]
  },
  {
   "cell_type": "markdown",
   "metadata": {},
   "source": [
    "2. ถ้าแก้ไขโค้ดในบรรทัดที่ 14 เป็นดังต่อไปนี้  จะได้ผลการ build หรือ run เป็นอย่างไร ให้แสดง output ที่โปรแกรมแสดงออกมา\n",
    "```csharp\n",
    "    private void Info()\n",
    "```"
   ]
  },
  {
   "cell_type": "code",
   "execution_count": null,
   "metadata": {},
   "outputs": [
    {
     "ename": "Error",
     "evalue": "(4,7): error CS0122: 'MyClass.Info()' is inaccessible due to its protection level",
     "output_type": "error",
     "traceback": [
      "(4,7): error CS0122: 'MyClass.Info()' is inaccessible due to its protection level"
     ]
    }
   ],
   "source": [
    "// พื้นที่เขียน code และทดสอบ\n",
    "// พื้นที่เขียน code และทดสอบ\n",
    "var myObj = new MyClass();\n",
    "myObj.Info();\n",
    "\n",
    "class MyClass\n",
    "{\n",
    "   int F1;\n",
    "    string F2;\n",
    "    int F3 = 100;\n",
    "   string F4 = \"ASDF\";\n",
    "\n",
    "   private void Info()\n",
    "    {\n",
    "         System.Console.WriteLine($\"Default integer      F1 = {F1}\");  //Implicit fields initialization\n",
    "         System.Console.WriteLine($\"Default string       F2 = {F2}\");\n",
    "\n",
    "        System.Console.WriteLine($\"Initialized integer  F3 = {F3}\");  //Explicit field initialization\n",
    "         System.Console.WriteLine($\"Initialized string   F4 = {F4}\");\n",
    "     } \n",
    "}\n",
    "\n",
    "\n"
   ]
  },
  {
   "cell_type": "markdown",
   "metadata": {},
   "source": [
    "*คำตอบ*"
   ]
  },
  {
   "cell_type": "markdown",
   "metadata": {},
   "source": [
    "Error: (4,7): error CS0122: 'MyClass.Info()' is inaccessible due to its protection level"
   ]
  }
 ],
 "metadata": {
  "kernelspec": {
   "display_name": ".NET (C#)",
   "language": "C#",
   "name": ".net-csharp"
  },
  "polyglot_notebook": {
   "kernelInfo": {
    "defaultKernelName": "csharp",
    "items": [
     {
      "aliases": [],
      "languageName": "csharp",
      "name": "csharp"
     }
    ]
   }
  }
 },
 "nbformat": 4,
 "nbformat_minor": 2
}
