{
 "cells": [
  {
   "cell_type": "markdown",
   "metadata": {},
   "source": [
    "# Lab 8 Exercise 4\n",
    "\n",
    "## Fields declaration and initialization\n",
    "\n"
   ]
  },
  {
   "cell_type": "markdown",
   "metadata": {},
   "source": [
    "\n",
    "1. สร้าง console application project\n",
    "\n",
    "```\n",
    "    dotnet new console --name Lab08_Ex04\n",
    "```\n"
   ]
  },
  {
   "cell_type": "markdown",
   "metadata": {},
   "source": [
    "\n",
    "2. เปลี่ยน code ให้เป็นดังต่อไปนี้\n",
    "\n",
    "> ```csharp\n",
    ">  1. var myObj = new MyClass();\n",
    ">  2. \n",
    ">  3. System.Console.WriteLine($\"Default integer      F1 = {myObj.F1}\");  //Implicit fields initialization\n",
    ">  4. System.Console.WriteLine($\"Default string       F2 = {myObj.F2}\");\n",
    ">  5. System.Console.WriteLine($\"Initialized integer  F3 = {myObj.F3}\");  //Explicit field initialization\n",
    ">  6. System.Console.WriteLine($\"Initialized string   F4 = {myObj.F4}\");\n",
    ">  7. \n",
    ">  8. class MyClass\n",
    ">  9. {\n",
    "> 10.    public int F1;\n",
    "> 11.    public string F2;\n",
    "> 12.    public int F3 = 100;\n",
    "> 13.    public string F4 = \"ASDF\";\n",
    "> 14. }\n",
    "> ```"
   ]
  },
  {
   "cell_type": "markdown",
   "metadata": {},
   "source": [
    "\n",
    "3. Build project โดยการใช้คำสั่ง\n",
    "\n",
    "```\n",
    "    dotnet build  Lab08_Ex04\n",
    "```"
   ]
  },
  {
   "cell_type": "markdown",
   "metadata": {},
   "source": [
    "\n",
    "4. บันทึกผลที่ได้จากการรันคำสั่งในข้อ 3\n"
   ]
  },
  {
   "cell_type": "markdown",
   "metadata": {},
   "source": [
    "*คำตอบ*"
   ]
  },
  {
   "cell_type": "markdown",
   "metadata": {},
   "source": [
    "Build succeeded with 3 warning(s) in 1.4s"
   ]
  },
  {
   "cell_type": "markdown",
   "metadata": {},
   "source": [
    "\n",
    "5. Run project โดยการใช้คำสั่ง\n",
    "\n",
    "```\n",
    "    dotnet run --project Lab08_Ex04\n",
    "```"
   ]
  },
  {
   "cell_type": "markdown",
   "metadata": {},
   "source": [
    "\n",
    "6. บันทึกผลที่ได้จากการรันคำสั่งในข้อ 5\n",
    "\n"
   ]
  },
  {
   "cell_type": "markdown",
   "metadata": {},
   "source": [
    "*คำตอบ*"
   ]
  },
  {
   "cell_type": "markdown",
   "metadata": {},
   "source": [
    "Default integer      F1 = 0\n",
    "\n",
    "Default string       F2 = \n",
    "\n",
    "Initialized integer  F3 = 100\n",
    "\n",
    "Initialized string   F4 = ASDF"
   ]
  },
  {
   "cell_type": "markdown",
   "metadata": {},
   "source": [
    "7. อธิบายสิ่งที่พบในการทดลอง"
   ]
  },
  {
   "cell_type": "markdown",
   "metadata": {},
   "source": [
    "*คำตอบ*"
   ]
  },
  {
   "cell_type": "markdown",
   "metadata": {},
   "source": [
    "ตรง f2 ไม่มีคำตอบ"
   ]
  },
  {
   "cell_type": "markdown",
   "metadata": {},
   "source": [
    "8. นำ code ในข้อ 2 มารันบน polyglot notebook  โดยใส่ใน  code cell ด้านล่างนี้\n"
   ]
  },
  {
   "cell_type": "code",
   "execution_count": null,
   "metadata": {
    "dotnet_interactive": {
     "language": "csharp"
    },
    "polyglot_notebook": {
     "kernelName": "csharp"
    }
   },
   "outputs": [
    {
     "name": "stdout",
     "output_type": "stream",
     "text": [
      "Default integer      F1 = 0\n",
      "Default string       F2 = \n",
      "Initialized integer  F3 = 100\n",
      "Initialized string   F4 = ASDF\n"
     ]
    }
   ],
   "source": [
    "// พื้นที่เขียน code ตามข้อ 2\n",
    "var myObj = new MyClass();\n",
    "\n",
    "System.Console.WriteLine($\"Default integer      F1 = {myObj.F1}\");  //Implicit fields initialization\n",
    "System.Console.WriteLine($\"Default string       F2 = {myObj.F2}\");\n",
    "System.Console.WriteLine($\"Initialized integer  F3 = {myObj.F3}\");  //Explicit field initialization\n",
    "System.Console.WriteLine($\"Initialized string   F4 = {myObj.F4}\");\n",
    " \n",
    "class MyClass\n",
    "{\n",
    "    public int F1;\n",
    "   public string F2;\n",
    "    public int F3 = 100;\n",
    "    public string F4 = \"ASDF\";\n",
    "}\n"
   ]
  },
  {
   "cell_type": "markdown",
   "metadata": {},
   "source": [
    "8.1 ผลการรันเป็นอย่างไร\n",
    "\n"
   ]
  },
  {
   "cell_type": "markdown",
   "metadata": {},
   "source": [
    "*คำตอบ*"
   ]
  },
  {
   "cell_type": "markdown",
   "metadata": {},
   "source": [
    "Default integer      F1 = 0\n",
    "\n",
    "Default string       F2 = \n",
    "\n",
    "Initialized integer  F3 = 100\n",
    "\n",
    "Initialized string   F4 = ASDF"
   ]
  },
  {
   "cell_type": "markdown",
   "metadata": {},
   "source": [
    "8.2 เหมือนหรือต่างจาก console application อย่างไร"
   ]
  },
  {
   "cell_type": "markdown",
   "metadata": {},
   "source": [
    "*คำตอบ*"
   ]
  },
  {
   "cell_type": "markdown",
   "metadata": {},
   "source": [
    "โค้ดนี้แสดงตัวอย่างของการกำหนดค่าเริ่มต้นให้กับฟิลด์ในคลาส และการแสดงค่าของฟิลด์เหล่านั้นจากการสร้างอ็อบเจ็กต์จากคลาสนั้นผ่าน Console.WriteLine "
   ]
  },
  {
   "cell_type": "markdown",
   "metadata": {},
   "source": [
    "## คำถาม"
   ]
  },
  {
   "cell_type": "markdown",
   "metadata": {},
   "source": [
    "1. Field ในภาษา C# คืออะไร\n"
   ]
  },
  {
   "cell_type": "markdown",
   "metadata": {},
   "source": [
    "*คำตอบ*"
   ]
  },
  {
   "cell_type": "markdown",
   "metadata": {},
   "source": [
    "Field คือ ตัวแปรที่ถูกประกาศภายในคลาสหรือโครงสร้าง (Class / Struct) ซึ่งใช้เก็บ สถานะ (State) หรือข้อมูลของอ็อบเจ็กต์ ตลอดอายุการใช้งานของอ็อบเจ็กต์นั้น"
   ]
  },
  {
   "cell_type": "markdown",
   "metadata": {},
   "source": [
    "2. Field มีหน้าที่อะไรใน class \n"
   ]
  },
  {
   "cell_type": "markdown",
   "metadata": {},
   "source": [
    "*คำตอบ*"
   ]
  },
  {
   "cell_type": "markdown",
   "metadata": {},
   "source": [
    "Field ใน C# ทำหน้าที่เป็น ตัวเก็บข้อมูลของอ็อบเจ็กต์ ซึ่งสามารถใช้เก็บสถานะ (State) หรือค่าที่จำเป็นสำหรับการทำงานของคลาส"
   ]
  },
  {
   "cell_type": "markdown",
   "metadata": {},
   "source": [
    "3. การประกาศ Field ทำได้อย่างไร"
   ]
  },
  {
   "cell_type": "markdown",
   "metadata": {},
   "source": [
    "*คำตอบ*"
   ]
  },
  {
   "cell_type": "markdown",
   "metadata": {},
   "source": [
    "การประกาศ Field ใน C# ทำได้โดยการกำหนด ตัวแปรภายในคลาส หรือ โครงสร้าง (Struct) โดยทั่วไป Field จะถูกกำหนดประเภทข้อมูล (Data Type) และสามารถระบุ Access Modifier เพื่อควบคุมการเข้าถึงได้"
   ]
  },
  {
   "cell_type": "markdown",
   "metadata": {},
   "source": [
    "4. Implicit fields initialization  คืออะไร"
   ]
  },
  {
   "cell_type": "markdown",
   "metadata": {},
   "source": [
    "*คำตอบ*"
   ]
  },
  {
   "cell_type": "markdown",
   "metadata": {},
   "source": [
    "การกำหนดค่าเริ่มต้นโดยอัตโนมัติให้กับ Field ใน C# หากไม่มีการกำหนดค่าเริ่มต้นให้ Field เอง"
   ]
  },
  {
   "cell_type": "markdown",
   "metadata": {},
   "source": [
    "5. Explicit field initialization คืออะไร\n",
    "\n"
   ]
  },
  {
   "cell_type": "markdown",
   "metadata": {},
   "source": [
    "*คำตอบ*"
   ]
  },
  {
   "cell_type": "markdown",
   "metadata": {},
   "source": [
    "การกำหนดค่าเริ่มต้นให้กับ Field โดยตรง ในขณะที่ประกาศ Field ภายในคลาสหรือโครงสร้าง (Struct) แทนที่จะปล่อยให้ C# กำหนดค่าเริ่มต้นให้โดยอัตโนมัติ (Implicit Field Initialization)"
   ]
  },
  {
   "cell_type": "markdown",
   "metadata": {},
   "source": [
    "6. Implicit fields initialization  และ Explicit field initialization แตกต่างกันอย่างไร\n",
    "\n"
   ]
  },
  {
   "cell_type": "markdown",
   "metadata": {},
   "source": [
    "*คำตอบ*"
   ]
  },
  {
   "cell_type": "markdown",
   "metadata": {},
   "source": [
    "Implicit Fields Initialization: C# กำหนดค่าเริ่มต้นให้ Field โดยอัตโนมัติตามประเภทของข้อมูล\n",
    "\n",
    "Explicit Field Initialization: นักพัฒนากำหนดค่าเริ่มต้นให้ Field เองขณะประกาศ\n",
    "\n",
    "Implicit ใช้ค่าเริ่มต้นของ C# (0, null, false ฯลฯ)\n",
    "\n",
    "Explicit ใช้ค่าที่เราต้องการ (100, \"John\", true ฯลฯ)\n",
    "\n",
    "ควรใช้ Implicit Field เมื่อต้องการให้ Field ใช้ค่าเริ่มต้นของ C# และใช้ Explicit Field เมื่อต้องการค่าที่แน่นอน"
   ]
  }
 ],
 "metadata": {
  "kernelspec": {
   "display_name": ".NET (C#)",
   "language": "C#",
   "name": ".net-csharp"
  },
  "polyglot_notebook": {
   "kernelInfo": {
    "defaultKernelName": "csharp",
    "items": [
     {
      "aliases": [],
      "languageName": "csharp",
      "name": "csharp"
     }
    ]
   }
  }
 },
 "nbformat": 4,
 "nbformat_minor": 2
}
