{
 "cells": [
  {
   "cell_type": "markdown",
   "metadata": {},
   "source": [
    "# Lab 8 Exercise 2\n",
    "\n",
    "## การประกาศสมาชิกในคลาส (fields)\n"
   ]
  },
  {
   "cell_type": "markdown",
   "metadata": {},
   "source": [
    "\n",
    "\n",
    "1. สร้าง console application project\n",
    "\n",
    "```\n",
    "    dotnet new console --name Lab08_Ex02\n",
    "```\n"
   ]
  },
  {
   "cell_type": "markdown",
   "metadata": {},
   "source": [
    "\n",
    "2. เปลี่ยน code ให้เป็นดังต่อไปนี้ (ตัวเลขข้างหน้า คือหมายเลขบรรทัด ไว้สำหรับอ้างอิง)\n",
    "\n",
    "> ```csharp\n",
    ">  1. Person p = new Person();\n",
    ">  2. p.name = \"Rambo\";\n",
    ">  3. p.id = \"1987\";\n",
    ">  4. p.income = 2500;\n",
    ">  5. System.Console.WriteLine($\"Type of p is {p.GetType()}\");\n",
    ">  6. System.Console.WriteLine($\"p.name = {p.name}\\ttype = {p.name.GetType()}\");\n",
    ">  7. System.Console.WriteLine($\"p.id = {p.id}\\ttype = {p.id.GetType()}\");\n",
    ">  8. System.Console.WriteLine($\"p.income = {p.income}\\ttype = {p.income.GetType()}\");\n",
    ">  9. \n",
    "> 10. class Person\n",
    "> 11. {\n",
    "> 12.     string name;\n",
    "> 13.     string id;\n",
    "> 14.     int income;\n",
    "> 15. }\n",
    "> ```\n"
   ]
  },
  {
   "cell_type": "markdown",
   "metadata": {},
   "source": [
    "\n",
    "3. Build project โดยการใช้คำสั่ง\n",
    "\n",
    "```\n",
    "    dotnet build  Lab08_Ex02\n",
    "```\n"
   ]
  },
  {
   "cell_type": "markdown",
   "metadata": {},
   "source": [
    "\n",
    "4. บันทึกผลที่ได้จากการรันคำสั่งในข้อ 3\n"
   ]
  },
  {
   "cell_type": "markdown",
   "metadata": {},
   "source": [
    "*คำตอบ*"
   ]
  },
  {
   "cell_type": "markdown",
   "metadata": {},
   "source": [
    "Build succeeded in 1.5s"
   ]
  },
  {
   "cell_type": "markdown",
   "metadata": {},
   "source": [
    "\n",
    "5. Run project โดยการใช้คำสั่ง\n",
    "\n",
    "```\n",
    "    dotnet run --project Lab08_Ex02\n",
    "```\n"
   ]
  },
  {
   "cell_type": "markdown",
   "metadata": {},
   "source": [
    "\n",
    "6. บันทึกผลที่ได้จากการรันคำสั่งในข้อ 5\n",
    "\n"
   ]
  },
  {
   "cell_type": "markdown",
   "metadata": {},
   "source": [
    "*คำตอบ*"
   ]
  },
  {
   "cell_type": "markdown",
   "metadata": {},
   "source": [
    "p.Name = Rambo  type = System.String\n",
    "p.Id = 1987     type = System.Int32\n",
    "p.Income = 2500 type = System.Int32"
   ]
  },
  {
   "cell_type": "markdown",
   "metadata": {},
   "source": [
    "\n",
    "7. อธิบายสิ่งที่พบในการทดลอง\n",
    "\n"
   ]
  },
  {
   "cell_type": "markdown",
   "metadata": {},
   "source": [
    "*คำตอบ*"
   ]
  },
  {
   "cell_type": "markdown",
   "metadata": {},
   "source": [
    "โค้ด error ตรง person"
   ]
  },
  {
   "cell_type": "markdown",
   "metadata": {},
   "source": [
    "8. นำ code ในข้อ 2 มารันบน polyglot notebook  โดยใส่ใน  code cell ด้านล่างนี้\n"
   ]
  },
  {
   "cell_type": "code",
   "execution_count": null,
   "metadata": {
    "dotnet_interactive": {
     "language": "csharp"
    },
    "polyglot_notebook": {
     "kernelName": "csharp"
    }
   },
   "outputs": [
    {
     "name": "stdout",
     "output_type": "stream",
     "text": [
      "Type of p is Submission#2+Person\n",
      "p.Name = Rambo\ttype = System.String\n",
      "p.Id = 1987\ttype = System.Int32\n",
      "p.Income = 2500\ttype = System.Int32\n"
     ]
    }
   ],
   "source": [
    "// พื้นที่เขียน code ตามข้อ 2 \n",
    "Person p = new Person();\n",
    "        p.Name = \"Rambo\";\n",
    "        p.Id = 1987;\n",
    "        p.Income = 2500;\n",
    "\n",
    "        Console.WriteLine($\"Type of p is {p.GetType()}\");\n",
    "        Console.WriteLine($\"p.Name = {p.Name}\\ttype = {p.Name.GetType()}\");\n",
    "        Console.WriteLine($\"p.Id = {p.Id}\\ttype = {p.Id.GetType()}\");\n",
    "        Console.WriteLine($\"p.Income = {p.Income}\\ttype = {p.Income.GetType()}\");\n",
    "\n",
    "class Person\n",
    "{\n",
    "    public string Name { get; set; } = string.Empty;  // ป้องกัน null\n",
    "    public int Id { get; set; }                       // เปลี่ยนเป็น int\n",
    "    public int Income { get; set; }                  \n",
    "}"
   ]
  },
  {
   "cell_type": "markdown",
   "metadata": {},
   "source": [
    "8.1 ผลการรันเป็นอย่างไร\n",
    "\n"
   ]
  },
  {
   "cell_type": "markdown",
   "metadata": {},
   "source": [
    "*คำตอบ*"
   ]
  },
  {
   "cell_type": "markdown",
   "metadata": {},
   "source": [
    "Type of p is Submission#2+Person\n",
    "p.Name = Rambo\ttype = System.String\n",
    "p.Id = 1987\ttype = System.Int32\n",
    "p.Income = 2500\ttype = System.Int32"
   ]
  },
  {
   "cell_type": "markdown",
   "metadata": {},
   "source": [
    "8.2 เหมือนหรือค่างจาก console application อย่างไร"
   ]
  },
  {
   "cell_type": "markdown",
   "metadata": {},
   "source": [
    "*คำตอบ*"
   ]
  },
  {
   "cell_type": "markdown",
   "metadata": {},
   "source": [
    " run ในconsole app สามารถทำได้เเละเเสดงผล เเต่ใน polyglot ไม่สามารถ run ได้"
   ]
  },
  {
   "cell_type": "markdown",
   "metadata": {},
   "source": [
    "## คำถาม"
   ]
  },
  {
   "cell_type": "markdown",
   "metadata": {},
   "source": [
    "1. Field ในภาษา C# คืออะไร\n"
   ]
  },
  {
   "cell_type": "markdown",
   "metadata": {},
   "source": [
    "*คำตอบ*"
   ]
  },
  {
   "cell_type": "markdown",
   "metadata": {},
   "source": [
    "Field ในภาษา C# คือ ตัวแปรที่ถูกประกาศภายในคลาสหรือ struct ใช้สำหรับเก็บค่าหรือสถานะของอ็อบเจ็กต์"
   ]
  },
  {
   "cell_type": "markdown",
   "metadata": {},
   "source": [
    "2. Field มีหน้าที่อะไรใน class \n"
   ]
  },
  {
   "cell_type": "markdown",
   "metadata": {},
   "source": [
    "*คำตอบ*"
   ]
  },
  {
   "cell_type": "markdown",
   "metadata": {},
   "source": [
    "Field ใน C# ทำหน้าที่ เก็บข้อมูลของอ็อบเจ็กต์ ซึ่งสามารถใช้กำหนดสถานะ (state) ของอ็อบเจ็กต์และใช้ร่วมกับเมธอดภายในคลาส"
   ]
  },
  {
   "cell_type": "markdown",
   "metadata": {},
   "source": [
    "3. การประกาศ Field ทำได้อย่างไร ให้อธิบายรูปแบบการประกาศ field ในคลาส\n"
   ]
  },
  {
   "cell_type": "markdown",
   "metadata": {},
   "source": [
    "*คำตอบ*"
   ]
  },
  {
   "cell_type": "markdown",
   "metadata": {},
   "source": [
    "[AccessModifier] [Static] [ReadOnly/Const] DataType FieldName = Value;\n",
    "\n",
    "รูปแบบการประกาศ Field"
   ]
  },
  {
   "cell_type": "markdown",
   "metadata": {},
   "source": [
    "4. Field และ Variable แตกต่างกันอย่างไร\n"
   ]
  },
  {
   "cell_type": "markdown",
   "metadata": {},
   "source": [
    "ในภาษา C# Field และ Variable เป็นตัวแปรที่ใช้เก็บข้อมูล แต่มีความแตกต่างกันในหลายแง่มุม เช่น ตำแหน่งที่ประกาศ, อายุการใช้งาน และขอบเขตการเข้าถึง"
   ]
  },
  {
   "cell_type": "markdown",
   "metadata": {},
   "source": [
    "5. เมื่อไหร่ควรใช้ Field และเมื่อไหร่ควรใช้ Variable"
   ]
  },
  {
   "cell_type": "markdown",
   "metadata": {},
   "source": [
    "*คำตอบ*"
   ]
  },
  {
   "cell_type": "markdown",
   "metadata": {},
   "source": [
    "Field ควรใช้เมื่อเราต้องการ เก็บสถานะของอ็อบเจ็กต์ ตลอดอายุการใช้งาน เช่น ข้อมูลที่ต้องใช้ในหลายเมธอดของคลาส หรือค่าที่ต้องการแชร์ระหว่างอ็อบเจ็กต์ผ่าน static Field นอกจากนี้ Field สามารถกำหนด Access Modifier เช่น public, private, และ protected เพื่อควบคุมการเข้าถึงได้\n",
    "\n",
    "Variable (Local Variable) ควรใช้เมื่อเราต้องการ เก็บค่าชั่วคราว ที่ใช้ภายในเมธอดหรือบล็อกของโค้ดเท่านั้น เช่น ตัวแปรที่ใช้คำนวณหรือเก็บข้อมูลชั่วคราวที่ไม่จำเป็นต้องเก็บไว้ในอ็อบเจ็กต์ โดย Local Variable จะมีอายุการใช้งานสั้นและไม่สามารถกำหนด Access Modifier ได้"
   ]
  },
  {
   "cell_type": "markdown",
   "metadata": {},
   "source": [
    "6. ในโปรแกรมการทดลองนี้ มี field หรือไม่ อยู่ในบรรทัดที่เท่าไหร่\n"
   ]
  },
  {
   "cell_type": "markdown",
   "metadata": {},
   "source": [
    "*คำตอบ*"
   ]
  },
  {
   "cell_type": "markdown",
   "metadata": {},
   "source": [
    "บรรทัดที่ 12 → string name; → เป็น Field ที่เก็บชื่อของบุคคล\n",
    "\n",
    "บรรทัดที่ 13 → string id; → เป็น Field ที่เก็บรหัสของบุคคล\n",
    "\n",
    "บรรทัดที่ 14 → int income; → เป็น Field ที่เก็บรายได้ของบุคคล"
   ]
  },
  {
   "cell_type": "markdown",
   "metadata": {},
   "source": [
    "7. ผลจากการรันโปรแกรมใน Console Application และใน polyglot notebook เหมือนหรือแตกต่างกันอย่างไร"
   ]
  },
  {
   "cell_type": "markdown",
   "metadata": {},
   "source": [
    "*คำตอบ*"
   ]
  },
  {
   "cell_type": "markdown",
   "metadata": {},
   "source": [
    " run ในconsole app สามารถทำได้เเละเเสดงผล เเต่ใน polyglot ไม่สามารถ run ได้"
   ]
  }
 ],
 "metadata": {
  "kernelspec": {
   "display_name": ".NET (C#)",
   "language": "C#",
   "name": ".net-csharp"
  },
  "polyglot_notebook": {
   "kernelInfo": {
    "defaultKernelName": "csharp",
    "items": [
     {
      "aliases": [],
      "languageName": "csharp",
      "name": "csharp"
     }
    ]
   }
  }
 },
 "nbformat": 4,
 "nbformat_minor": 2
}
