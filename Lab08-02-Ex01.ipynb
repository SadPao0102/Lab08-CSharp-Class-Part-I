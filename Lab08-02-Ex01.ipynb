{
 "cells": [
  {
   "cell_type": "markdown",
   "metadata": {},
   "source": [
    "# Lab 8 Exercise 1 \n",
    "##  การสร้าง Class\n"
   ]
  },
  {
   "cell_type": "markdown",
   "metadata": {},
   "source": [
    "\n",
    "1. สร้าง console application project\n"
   ]
  },
  {
   "cell_type": "markdown",
   "metadata": {},
   "source": [
    "1.1 เรียก terminal (cmd) ขึ้นมา \n",
    "\n",
    "1.2 ตรวจสอบให้แน่ใจว่าอยู่ใน folder หรือ directory ที่ต้องการสร้าง project \n",
    "\n",
    "1.3 พิมพ์คำสั่งต่อไปนี้\n",
    "\n",
    "``` \n",
    "    dotnet new console --name Lab08_Ex01\n",
    "```\n",
    "\n",
    "1.4 ใช้คำสั่ง dir เพื่อตรวจสอบดูว่าโฟลเดอร์ของ project ได้ถูกสร้างขึ้นแล้วหรือยัง"
   ]
  },
  {
   "cell_type": "markdown",
   "metadata": {},
   "source": [
    "\n",
    "2. เปลี่ยน code ในไฟล์ program.cs ให้เป็นดังต่อไปนี้ (ตัวเลขข้างหน้า คือหมายเลขบรรทัด ไว้สำหรับอ้างอิง)\n",
    "\n",
    "> ```c#\n",
    "> 1.  Person p = new Person();\n",
    "> 2.  System.Console.WriteLine($\"Type of p is {p.GetType()}\");\n",
    "> 3.  \n",
    "> 4.  class Person\n",
    "> 5.  {\n",
    "> 6.  \n",
    "> 7.  }\n",
    "> ```\n"
   ]
  },
  {
   "cell_type": "markdown",
   "metadata": {},
   "source": [
    "\n",
    "3. Build project โดยการใช้คำสั่ง\n",
    "\n",
    "```\n",
    "dotnet build  Lab08_Ex01\n",
    "```\n"
   ]
  },
  {
   "cell_type": "markdown",
   "metadata": {},
   "source": [
    "\n",
    "4. บันทึกผลที่ได้จากการรันคำสั่งในข้อ 3\n"
   ]
  },
  {
   "cell_type": "markdown",
   "metadata": {},
   "source": [
    "*คำตอบ*"
   ]
  },
  {
   "cell_type": "markdown",
   "metadata": {},
   "source": [
    "Build succeeded in 3.6s"
   ]
  },
  {
   "cell_type": "markdown",
   "metadata": {},
   "source": [
    "\n",
    "5. Run project โดยการใช้คำสั่ง\n",
    "\n",
    "```\n",
    "dotnet run --project Lab08_Ex01\n",
    "```\n"
   ]
  },
  {
   "cell_type": "markdown",
   "metadata": {},
   "source": [
    "\n",
    "6. บันทึกผลที่ได้จากการรันคำสั่งในข้อ 5\n"
   ]
  },
  {
   "cell_type": "markdown",
   "metadata": {},
   "source": [
    "*คำตอบ*"
   ]
  },
  {
   "cell_type": "markdown",
   "metadata": {},
   "source": [
    "Type of p is Person"
   ]
  },
  {
   "cell_type": "markdown",
   "metadata": {},
   "source": [
    "7. โค้ดต่อไปนี้สามารถรันได้ใน polyglot notebook หรือไม่ "
   ]
  },
  {
   "cell_type": "code",
   "execution_count": null,
   "metadata": {
    "dotnet_interactive": {
     "language": "csharp"
    },
    "polyglot_notebook": {
     "kernelName": "csharp"
    }
   },
   "outputs": [],
   "source": [
    "Person p = new Person();\n",
    "System.Console.WriteLine($\"Type of p is {p.GetType()}\");\n",
    "\n",
    "class Person\n",
    "{\n",
    "\n",
    "}"
   ]
  },
  {
   "cell_type": "markdown",
   "metadata": {},
   "source": [
    "*คำตอบ*"
   ]
  },
  {
   "cell_type": "markdown",
   "metadata": {},
   "source": [
    "Type of p is Submission#1+Person"
   ]
  },
  {
   "cell_type": "markdown",
   "metadata": {},
   "source": [
    "## คำถาม\n",
    "\n"
   ]
  },
  {
   "cell_type": "markdown",
   "metadata": {},
   "source": [
    "1. Class ในภาษา C# คืออะไร\n"
   ]
  },
  {
   "cell_type": "markdown",
   "metadata": {},
   "source": [
    "*คำตอบ*"
   ]
  },
  {
   "cell_type": "markdown",
   "metadata": {},
   "source": [
    "Class ในภาษา C# เป็น พิมพ์เขียว (Blueprint) สำหรับสร้าง วัตถุ (Object) ซึ่งใช้ในการกำหนด คุณสมบัติ (Properties) และ พฤติกรรม (Methods) ของวัตถุที่ถูกสร้างขึ้น"
   ]
  },
  {
   "cell_type": "markdown",
   "metadata": {},
   "source": [
    "2. Class มีหน้าที่อะไร\n"
   ]
  },
  {
   "cell_type": "markdown",
   "metadata": {},
   "source": [
    "*คำตอบ*"
   ]
  },
  {
   "cell_type": "markdown",
   "metadata": {},
   "source": [
    "Class ในภาษา C# มีหน้าที่หลักในการ กำหนดโครงสร้างของข้อมูลและพฤติกรรมของวัตถุ (Object) โดยทำหน้าที่เป็นพิมพ์เขียว (Blueprint) สำหรับสร้างอ็อบเจ็กต์ที่สามารถใช้ซ้ำและจัดการได้ง่ายขึ้นตามหลัก OOP (Object-Oriented Programming)"
   ]
  },
  {
   "cell_type": "markdown",
   "metadata": {},
   "source": [
    "3. ทำไมเราต้องใช้ Class\n"
   ]
  },
  {
   "cell_type": "markdown",
   "metadata": {},
   "source": [
    "*คำตอบ*"
   ]
  },
  {
   "cell_type": "markdown",
   "metadata": {},
   "source": [
    "เพราะช่วยให้โค้ดมี โครงสร้างที่ดี, จัดการง่าย, ใช้ซ้ำได้ และรองรับการเขียนโปรแกรมเชิงวัตถุ (OOP - Object-Oriented Programming)"
   ]
  },
  {
   "cell_type": "markdown",
   "metadata": {},
   "source": [
    "4. ส่วนประกอบของ Class มีอะไรบ้าง\n"
   ]
  },
  {
   "cell_type": "markdown",
   "metadata": {},
   "source": [
    "*คำตอบ*"
   ]
  },
  {
   "cell_type": "markdown",
   "metadata": {},
   "source": [
    "Fields – ตัวแปรเก็บข้อมูล\n",
    "\n",
    "Properties – ใช้ควบคุมการเข้าถึง \n",
    "\n",
    "FieldsMethods – กำหนดพฤติกรรมของ Object\n",
    "\n",
    "Constructors – กำหนดค่าตั้งต้นให้ Object\n",
    "\n",
    "Destructors – ทำความสะอาด Object ก่อนลบทิ้ง\n",
    "\n",
    "Access Modifiers – ควบคุมการเข้าถึงข้อมูล\n",
    "\n",
    "Static Members – สมาชิกของคลาสที่ใช้ได้โดยไม่ต้องสร้าง Object\n",
    "\n",
    "Inheritance – ใช้สืบทอดคุณสมบัติของคลาสแม่\n",
    "\n",
    "Polymorphism – เปลี่ยนแปลงพฤติกรรมของเมธอดได้"
   ]
  },
  {
   "cell_type": "markdown",
   "metadata": {},
   "source": [
    "5. Class และ Object แตกต่างกันอย่างไร\n"
   ]
  },
  {
   "cell_type": "markdown",
   "metadata": {},
   "source": [
    "*คำตอบ*"
   ]
  },
  {
   "cell_type": "markdown",
   "metadata": {},
   "source": [
    "Class และ Object แตกต่างกันตรงที่ Class เป็น พิมพ์เขียว หรือ แบบแปลน ที่ใช้กำหนดโครงสร้างและพฤติกรรมของอ็อบเจ็กต์ แต่ไม่สามารถใช้งานได้โดยตรง ต้องสร้าง Object ขึ้นมาก่อน ส่วน Object คือ อินสแตนซ์ของ Class หรือ สิ่งที่ถูกสร้างขึ้นจากพิมพ์เขียวนั้น ซึ่งสามารถใช้งานได้จริงในโปรแกรม"
   ]
  },
  {
   "cell_type": "markdown",
   "metadata": {},
   "source": [
    "6. การตั้งชื่อ Class มีหลักเกณฑ์อย่างไร"
   ]
  },
  {
   "cell_type": "markdown",
   "metadata": {},
   "source": [
    "*คำตอบ*"
   ]
  },
  {
   "cell_type": "markdown",
   "metadata": {},
   "source": [
    "ใช้ PascalCase – ชื่อคลาสต้องขึ้นต้นด้วยอักษรตัวใหญ่ และแต่ละคำต้องเป็นตัวใหญ่\n",
    "✅ ตัวอย่าง: CustomerData, EmployeeManager, CarInfo\n",
    "\n",
    "สื่อความหมาย – ชื่อคลาสควรบอกได้ว่าคลาสนั้นทำหน้าที่อะไร\n",
    "\n",
    "เป็นคำนามหรือวลี – เพราะ Class แทนสิ่งของหรือแนวคิด เช่น คน, รถ, สินค้า\n",
    "\n",
    "ห้ามใช้สัญลักษณ์พิเศษและตัวเลข – ชื่อคลาสควรมีแค่ตัวอักษรและตัวเลขที่เกี่ยวข้อง\n",
    "\n",
    "ควรหลีกเลี่ยงคำย่อที่ไม่จำเป็น – เว้นแต่เป็นคำที่ใช้กันทั่วไป\n",
    "\n",
    "หลีกเลี่ยงการใช้คำทั่วไปหรือกว้างเกินไป – ควรเจาะจงให้มากขึ้น\n",
    "\n",
    "ถ้าเป็นคลาสที่ใช้เป็น Interface ให้ขึ้นต้นด้วย \"I\"\n",
    "\n",
    "ถ้าเป็นคลาสที่ใช้เป็น Abstract ควรเติม \"Base\" หรือ \"Abstract\" เพื่อสื่อความหมาย\n"
   ]
  },
  {
   "cell_type": "markdown",
   "metadata": {},
   "source": [
    "7. คำสั่ง p.GetType() คืออะไร"
   ]
  },
  {
   "cell_type": "markdown",
   "metadata": {},
   "source": [
    "*คำตอบ*"
   ]
  },
  {
   "cell_type": "markdown",
   "metadata": {},
   "source": [
    "เป็นเมธอดที่ใช้ดึง ประเภท (Type) ของอ็อบเจ็กต์ในขณะรันไทม์ (Runtime)"
   ]
  },
  {
   "cell_type": "markdown",
   "metadata": {},
   "source": [
    "8. ผลที่ได้จากคำสั่ง  p.GetType() คืออะไร มันให้ข้อมูลอะไรแก่เราบ้าง"
   ]
  },
  {
   "cell_type": "markdown",
   "metadata": {},
   "source": [
    "*คำตอบ*"
   ]
  },
  {
   "cell_type": "markdown",
   "metadata": {},
   "source": [
    "ชื่อคลาส\n",
    "เนมสเปซ\n",
    "เป็นคลาสหรือไม่\n",
    "รายการเมธอดและพร็อพเพอร์ตี้"
   ]
  },
  {
   "cell_type": "markdown",
   "metadata": {},
   "source": [
    "9. ในภาษา C# การประกาศ class ไว้ก่อนหรือหลังการสร้าง  object ต่างกันหรือไม่ "
   ]
  },
  {
   "cell_type": "markdown",
   "metadata": {},
   "source": [
    "ในภาษา C# เราต้องประกาศ Class ก่อนการสร้าง Object เสมอ เพราะ C# เป็น Static Typed Language  ตัวแปลภาษาต้องรู้จักประเภทของ Object ก่อนใช้งาน"
   ]
  },
  {
   "cell_type": "markdown",
   "metadata": {},
   "source": [
    "*คำตอบ*"
   ]
  }
 ],
 "metadata": {
  "kernelspec": {
   "display_name": ".NET (C#)",
   "language": "C#",
   "name": ".net-csharp"
  },
  "polyglot_notebook": {
   "kernelInfo": {
    "defaultKernelName": "csharp",
    "items": [
     {
      "aliases": [],
      "languageName": "csharp",
      "name": "csharp"
     }
    ]
   }
  }
 },
 "nbformat": 4,
 "nbformat_minor": 2
}
