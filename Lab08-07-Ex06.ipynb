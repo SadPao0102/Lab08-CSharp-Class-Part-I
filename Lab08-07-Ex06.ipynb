{
 "cells": [
  {
   "cell_type": "markdown",
   "metadata": {
    "dotnet_interactive": {
     "language": "csharp"
    },
    "polyglot_notebook": {
     "kernelName": "csharp"
    }
   },
   "source": [
    "# Lab 8 Exercise 6\n",
    "\n",
    "## Method with parameter"
   ]
  },
  {
   "cell_type": "markdown",
   "metadata": {},
   "source": [
    "1. สร้าง console application project\n",
    "\n",
    "```\n",
    "    dotnet new console --name Lab08_Ex06\n",
    "```\n"
   ]
  },
  {
   "cell_type": "markdown",
   "metadata": {},
   "source": [
    "2. เปลี่ยน code ให้เป็นดังต่อไปนี้\n",
    "\n",
    "> ```csharp\n",
    "> 1. var mc = new MyClass();\n",
    "> 2. mc.DisplayParam(3, 4);\n",
    "> 3. class MyClass\n",
    "> 4. {\n",
    "> 5.     public void DisplayParam(int a, int b)\n",
    "> 6.     {\n",
    "> 7.         System.Console.WriteLine($\"a = {a}, b = {b}\");\n",
    "> 8.     } \n",
    "> 9. }\n",
    "> ```\n",
    "\n"
   ]
  },
  {
   "cell_type": "markdown",
   "metadata": {},
   "source": [
    "3. Build project โดยการใช้คำสั่ง\n",
    "\n",
    "```\n",
    "    dotnet build  Lab08_Ex06\n",
    "```"
   ]
  },
  {
   "cell_type": "markdown",
   "metadata": {},
   "source": [
    "4. บันทึกผลที่ได้จากการรันคำสั่งในข้อ 3\n",
    "\n"
   ]
  },
  {
   "cell_type": "markdown",
   "metadata": {},
   "source": [
    "*คำตอบ*"
   ]
  },
  {
   "cell_type": "markdown",
   "metadata": {},
   "source": [
    "Build succeeded in 1.4s"
   ]
  },
  {
   "cell_type": "markdown",
   "metadata": {},
   "source": [
    "5. Run project โดยการใช้คำสั่ง\n",
    "\n",
    "```\n",
    "    dotnet run --project Lab08_Ex06\n",
    "```"
   ]
  },
  {
   "cell_type": "markdown",
   "metadata": {},
   "source": [
    "6. บันทึกผลที่ได้จากการรันคำสั่งในข้อ 5\n",
    "\n",
    "\n"
   ]
  },
  {
   "cell_type": "markdown",
   "metadata": {},
   "source": [
    "*คำตอบ*"
   ]
  },
  {
   "cell_type": "markdown",
   "metadata": {},
   "source": [
    "a = 3, b = 4"
   ]
  },
  {
   "cell_type": "markdown",
   "metadata": {},
   "source": [
    "7. อธิบายสิ่งที่พบในการทดลอง\n"
   ]
  },
  {
   "cell_type": "markdown",
   "metadata": {},
   "source": [
    "*คำตอบ*"
   ]
  },
  {
   "cell_type": "markdown",
   "metadata": {},
   "source": [
    "ผลลัพธ์แสดงดังข้อ7"
   ]
  },
  {
   "cell_type": "markdown",
   "metadata": {},
   "source": [
    "8. นำ code ในข้อ 2 มารันบน polyglot notebook  โดยใส่ใน  code cell ด้านล่างนี้\n"
   ]
  },
  {
   "cell_type": "code",
   "execution_count": null,
   "metadata": {},
   "outputs": [
    {
     "name": "stdout",
     "output_type": "stream",
     "text": [
      "a = 3, b = 4\r\n"
     ]
    }
   ],
   "source": [
    "// พื้นที่เขียน code ตามข้อ 2\n",
    "var mc = new MyClass();\n",
    "mc.DisplayParam(3, 4);\n",
    "class MyClass\n",
    " {\n",
    "    public void DisplayParam(int a, int b)\n",
    "     {\n",
    "         System.Console.WriteLine($\"a = {a}, b = {b}\");\n",
    "     } \n",
    " }\n",
    "\n"
   ]
  },
  {
   "cell_type": "markdown",
   "metadata": {},
   "source": [
    "8.1 ผลการรันเป็นอย่างไร\n",
    "\n"
   ]
  },
  {
   "cell_type": "markdown",
   "metadata": {},
   "source": [
    "*คำตอบ*"
   ]
  },
  {
   "cell_type": "markdown",
   "metadata": {},
   "source": [
    "a = 3, b = 4"
   ]
  },
  {
   "cell_type": "markdown",
   "metadata": {},
   "source": [
    "8.2 เหมือนหรือต่างจาก console application อย่างไร"
   ]
  },
  {
   "cell_type": "markdown",
   "metadata": {},
   "source": [
    "*คำตอบ*"
   ]
  },
  {
   "cell_type": "markdown",
   "metadata": {},
   "source": [
    "เหมือนกันทั้งคู่"
   ]
  },
  {
   "cell_type": "markdown",
   "metadata": {},
   "source": [
    "## คำถาม"
   ]
  },
  {
   "cell_type": "markdown",
   "metadata": {},
   "source": [
    "1. Method with parameter คืออะไร\n"
   ]
  },
  {
   "cell_type": "markdown",
   "metadata": {},
   "source": [
    "*คำตอบ*"
   ]
  },
  {
   "cell_type": "markdown",
   "metadata": {},
   "source": [
    "เมธอดที่รับค่าพารามิเตอร์ (Parameter) เป็นข้อมูลนำเข้า เพื่อใช้ในการประมวลผลหรือดำเนินการบางอย่างภายในเมธอด"
   ]
  },
  {
   "cell_type": "markdown",
   "metadata": {},
   "source": [
    "2. ทำไมเราต้องใช้ parameter ใน method\n"
   ]
  },
  {
   "cell_type": "markdown",
   "metadata": {},
   "source": [
    "*คำตอบ*"
   ]
  },
  {
   "cell_type": "markdown",
   "metadata": {},
   "source": [
    "การใช้ Parameter ใน Method ช่วยให้โค้ดยืดหยุ่นขึ้น และสามารถรับค่าภายนอกเพื่อประมวลผลได้ ทำให้ Method สามารถทำงานกับข้อมูลที่หลากหลายโดยไม่ต้องเขียน Method ซ้ำ ๆ หลายครั้ง"
   ]
  },
  {
   "cell_type": "markdown",
   "metadata": {},
   "source": [
    "3. parameter และ argument แตกต่างกันอย่างไร\n"
   ]
  },
  {
   "cell_type": "markdown",
   "metadata": {},
   "source": [
    "*คำตอบ*"
   ]
  },
  {
   "cell_type": "markdown",
   "metadata": {},
   "source": [
    "Parameter (พารามิเตอร์) คือ ตัวแปรที่ถูกกำหนดไว้ในส่วนประกาศของเมธอด เพื่อใช้รับค่าจากภายนอกเมื่อตัวเมธอดถูกเรียกใช้งาน พารามิเตอร์ทำหน้าที่เป็นตัวกำหนดว่าฟังก์ชันสามารถรับข้อมูลประเภทใดและจำนวนกี่ตัว\n",
    "\n",
    "Argument (อาร์กิวเมนต์) คือ ค่าจริงที่ถูกส่งเข้าไปในเมธอด เมื่อมีการเรียกใช้งานเมธอด ค่าอาร์กิวเมนต์จะถูกส่งไปให้พารามิเตอร์ที่อยู่ในเมธอดเพื่อนำไปใช้ในการประมวลผล"
   ]
  },
  {
   "cell_type": "markdown",
   "metadata": {},
   "source": [
    "4. ส่วนประกอบของ method ที่มี parameter มีอะไรบ้าง\n"
   ]
  },
  {
   "cell_type": "markdown",
   "metadata": {},
   "source": [
    "*คำตอบ*"
   ]
  },
  {
   "cell_type": "markdown",
   "metadata": {},
   "source": [
    "Method ที่มี Parameter ใน C# ประกอบไปด้วย 5 ส่วนหลัก ได้แก่ Access Modifier, Return Type, Method Name, Parameter List และ Method Body"
   ]
  },
  {
   "cell_type": "markdown",
   "metadata": {},
   "source": [
    "5. เมื่อไหร่ควรใช้ method ที่มี parameter"
   ]
  },
  {
   "cell_type": "markdown",
   "metadata": {},
   "source": [
    "*คำตอบ*"
   ]
  },
  {
   "cell_type": "markdown",
   "metadata": {},
   "source": [
    "Method ที่มี Parameter ควรใช้ในกรณีที่ต้องการให้ Method สามารถทำงานกับค่าที่แตกต่างกันได้ โดยไม่ต้องแก้ไขโค้ดภายใน Method เอง ซึ่งช่วยให้โค้ดมี ความยืดหยุ่น และ สามารถนำกลับมาใช้ใหม่ (Reusability) ได้ง่ายขึ้น"
   ]
  },
  {
   "cell_type": "markdown",
   "metadata": {},
   "source": [
    "6. ถ้าแก้ไขโค้ดในบรรทัดที่ 2 เป็นดังต่อไปนี้  จะได้ผลการ build หรือ run เป็นอย่างไร ให้แสดง output ที่โปรแกรมแสดงออกมา\n",
    "```csharp\n",
    "    mc.DisplayParam(3.5, 4.2);\n",
    "```\n"
   ]
  },
  {
   "cell_type": "code",
   "execution_count": null,
   "metadata": {},
   "outputs": [
    {
     "ename": "Error",
     "evalue": "(3,17): error CS1503: Argument 1: cannot convert from 'double' to 'int'\r\n(3,22): error CS1503: Argument 2: cannot convert from 'double' to 'int'",
     "output_type": "error",
     "traceback": [
      "(3,17): error CS1503: Argument 1: cannot convert from 'double' to 'int'\r\n",
      "(3,22): error CS1503: Argument 2: cannot convert from 'double' to 'int'"
     ]
    }
   ],
   "source": [
    "// พื้นที่เขียน code และทดสอบ\n",
    "var mc = new MyClass();\n",
    "mc.DisplayParam(3.5, 4.2);\n",
    "class MyClass\n",
    " {\n",
    "    public void DisplayParam(int a, int b)\n",
    "     {\n",
    "         System.Console.WriteLine($\"a = {a}, b = {b}\");\n",
    "     } \n",
    " }"
   ]
  },
  {
   "cell_type": "markdown",
   "metadata": {},
   "source": [
    "*คำตอบ*"
   ]
  },
  {
   "cell_type": "markdown",
   "metadata": {},
   "source": [
    "Error: (3,17): error CS1503: Argument 1: cannot convert from 'double' to 'int'\n",
    "(3,22): error CS1503: Argument 2: cannot convert from 'double' to 'int'"
   ]
  },
  {
   "cell_type": "markdown",
   "metadata": {},
   "source": [
    "7. ถ้าแก้ไขโค้ดในบรรทัดที่ 2 เป็นดังต่อไปนี้  จะได้ผลการ build หรือ run เป็นอย่างไร ให้แสดง output ที่โปรแกรมแสดงออกมา\n",
    "```csharp\n",
    "    mc.DisplayParam(\"Hello\", \"World\");\n",
    "```"
   ]
  },
  {
   "cell_type": "code",
   "execution_count": null,
   "metadata": {},
   "outputs": [
    {
     "ename": "Error",
     "evalue": "(3,17): error CS1503: Argument 1: cannot convert from 'string' to 'int'\r\n(3,26): error CS1503: Argument 2: cannot convert from 'string' to 'int'",
     "output_type": "error",
     "traceback": [
      "(3,17): error CS1503: Argument 1: cannot convert from 'string' to 'int'\r\n",
      "(3,26): error CS1503: Argument 2: cannot convert from 'string' to 'int'"
     ]
    }
   ],
   "source": [
    "// พื้นที่เขียน code และทดสอบ\n",
    "var mc = new MyClass();\n",
    "mc.DisplayParam(\"Hello\", \"World\");\n",
    "class MyClass\n",
    " {\n",
    "    public void DisplayParam(int a, int b)\n",
    "     {\n",
    "         System.Console.WriteLine($\"a = {a}, b = {b}\");\n",
    "     } \n",
    " }"
   ]
  },
  {
   "cell_type": "markdown",
   "metadata": {},
   "source": [
    "*คำตอบ*"
   ]
  },
  {
   "cell_type": "markdown",
   "metadata": {},
   "source": [
    "Error: (3,17): error CS1503: Argument 1: cannot convert from 'string' to 'int'\n",
    "(3,26): error CS1503: Argument 2: cannot convert from 'string' to 'int'"
   ]
  },
  {
   "cell_type": "markdown",
   "metadata": {},
   "source": [
    "8. จงเขียน method ที่ตรวจสอบว่าตัวเลขที่รับเข้ามาเป็นจำนวนคู่หรือจำนวนคี่ และแสดงผลลัพธ์ทางหน้าจอ"
   ]
  },
  {
   "cell_type": "code",
   "execution_count": null,
   "metadata": {
    "dotnet_interactive": {
     "language": "csharp"
    },
    "polyglot_notebook": {
     "kernelName": "csharp"
    }
   },
   "outputs": [
    {
     "name": "stdout",
     "output_type": "stream",
     "text": [
      "22 เป็นเลขคู่\n",
      "41 เป็นเลขคี่\n"
     ]
    }
   ],
   "source": [
    "// พื้นที่เขียน code และทดสอบ\n",
    "public static void CheckEvenOdd(int number)\n",
    "{\n",
    "  if (number % 2 == 0)\n",
    "  {\n",
    "    Console.WriteLine(number + \" เป็นเลขคู่\");\n",
    "  }\n",
    "  else\n",
    "  {\n",
    "    Console.WriteLine(number + \" เป็นเลขคี่\");\n",
    "  }\n",
    "}\n",
    "CheckEvenOdd(22); \n",
    "CheckEvenOdd(41);"
   ]
  },
  {
   "cell_type": "markdown",
   "metadata": {},
   "source": [
    "*คำตอบ*"
   ]
  },
  {
   "cell_type": "markdown",
   "metadata": {},
   "source": [
    "22 เป็นเลขคู่\n",
    "\n",
    "41 เป็นเลขคี่"
   ]
  }
 ],
 "metadata": {
  "kernelspec": {
   "display_name": ".NET (C#)",
   "language": "C#",
   "name": ".net-csharp"
  },
  "polyglot_notebook": {
   "kernelInfo": {
    "defaultKernelName": "csharp",
    "items": [
     {
      "aliases": [],
      "languageName": "csharp",
      "name": "csharp"
     }
    ]
   }
  }
 },
 "nbformat": 4,
 "nbformat_minor": 2
}
